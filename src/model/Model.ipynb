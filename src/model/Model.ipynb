{
 "cells": [
  {
   "cell_type": "code",
   "execution_count": 1,
   "metadata": {},
   "outputs": [
    {
     "name": "stdout",
     "output_type": "stream",
     "text": [
      "Requirement already satisfied: spacy in /Users/ytyt0913/opt/anaconda3/envs/tf/lib/python3.7/site-packages (3.3.1)\n",
      "Requirement already satisfied: preshed<3.1.0,>=3.0.2 in /Users/ytyt0913/opt/anaconda3/envs/tf/lib/python3.7/site-packages (from spacy) (3.0.6)\n",
      "Requirement already satisfied: cymem<2.1.0,>=2.0.2 in /Users/ytyt0913/opt/anaconda3/envs/tf/lib/python3.7/site-packages (from spacy) (2.0.6)\n",
      "Requirement already satisfied: murmurhash<1.1.0,>=0.28.0 in /Users/ytyt0913/opt/anaconda3/envs/tf/lib/python3.7/site-packages (from spacy) (1.0.7)\n",
      "Requirement already satisfied: numpy>=1.15.0 in /Users/ytyt0913/opt/anaconda3/envs/tf/lib/python3.7/site-packages (from spacy) (1.21.5)\n",
      "Requirement already satisfied: catalogue<2.1.0,>=2.0.6 in /Users/ytyt0913/opt/anaconda3/envs/tf/lib/python3.7/site-packages (from spacy) (2.0.7)\n",
      "Requirement already satisfied: typer<0.5.0,>=0.3.0 in /Users/ytyt0913/opt/anaconda3/envs/tf/lib/python3.7/site-packages (from spacy) (0.4.1)\n",
      "Requirement already satisfied: blis<0.8.0,>=0.4.0 in /Users/ytyt0913/opt/anaconda3/envs/tf/lib/python3.7/site-packages (from spacy) (0.7.7)\n",
      "Requirement already satisfied: tqdm<5.0.0,>=4.38.0 in /Users/ytyt0913/opt/anaconda3/envs/tf/lib/python3.7/site-packages (from spacy) (4.64.0)\n",
      "Requirement already satisfied: packaging>=20.0 in /Users/ytyt0913/opt/anaconda3/envs/tf/lib/python3.7/site-packages (from spacy) (21.3)\n",
      "Requirement already satisfied: pydantic!=1.8,!=1.8.1,<1.9.0,>=1.7.4 in /Users/ytyt0913/opt/anaconda3/envs/tf/lib/python3.7/site-packages (from spacy) (1.8.2)\n",
      "Requirement already satisfied: srsly<3.0.0,>=2.4.3 in /Users/ytyt0913/opt/anaconda3/envs/tf/lib/python3.7/site-packages (from spacy) (2.4.3)\n",
      "Requirement already satisfied: typing-extensions<4.2.0,>=3.7.4 in /Users/ytyt0913/opt/anaconda3/envs/tf/lib/python3.7/site-packages (from spacy) (4.1.1)\n",
      "Requirement already satisfied: jinja2 in /Users/ytyt0913/opt/anaconda3/envs/tf/lib/python3.7/site-packages (from spacy) (3.1.2)\n",
      "Requirement already satisfied: setuptools in /Users/ytyt0913/opt/anaconda3/envs/tf/lib/python3.7/site-packages (from spacy) (61.2.0)\n",
      "Requirement already satisfied: spacy-legacy<3.1.0,>=3.0.9 in /Users/ytyt0913/opt/anaconda3/envs/tf/lib/python3.7/site-packages (from spacy) (3.0.9)\n",
      "Requirement already satisfied: pathy>=0.3.5 in /Users/ytyt0913/opt/anaconda3/envs/tf/lib/python3.7/site-packages (from spacy) (0.6.1)\n",
      "Requirement already satisfied: spacy-loggers<2.0.0,>=1.0.0 in /Users/ytyt0913/opt/anaconda3/envs/tf/lib/python3.7/site-packages (from spacy) (1.0.2)\n",
      "Requirement already satisfied: langcodes<4.0.0,>=3.2.0 in /Users/ytyt0913/opt/anaconda3/envs/tf/lib/python3.7/site-packages (from spacy) (3.3.0)\n",
      "Requirement already satisfied: thinc<8.1.0,>=8.0.14 in /Users/ytyt0913/opt/anaconda3/envs/tf/lib/python3.7/site-packages (from spacy) (8.0.17)\n",
      "Requirement already satisfied: requests<3.0.0,>=2.13.0 in /Users/ytyt0913/opt/anaconda3/envs/tf/lib/python3.7/site-packages (from spacy) (2.28.0)\n",
      "Requirement already satisfied: wasabi<1.1.0,>=0.9.1 in /Users/ytyt0913/opt/anaconda3/envs/tf/lib/python3.7/site-packages (from spacy) (0.9.1)\n",
      "Requirement already satisfied: zipp>=0.5 in /Users/ytyt0913/opt/anaconda3/envs/tf/lib/python3.7/site-packages (from catalogue<2.1.0,>=2.0.6->spacy) (3.8.0)\n",
      "Requirement already satisfied: pyparsing!=3.0.5,>=2.0.2 in /Users/ytyt0913/opt/anaconda3/envs/tf/lib/python3.7/site-packages (from packaging>=20.0->spacy) (3.0.9)\n",
      "Requirement already satisfied: smart-open<6.0.0,>=5.0.0 in /Users/ytyt0913/opt/anaconda3/envs/tf/lib/python3.7/site-packages (from pathy>=0.3.5->spacy) (5.2.1)\n",
      "Requirement already satisfied: idna<4,>=2.5 in /Users/ytyt0913/opt/anaconda3/envs/tf/lib/python3.7/site-packages (from requests<3.0.0,>=2.13.0->spacy) (3.3)\n",
      "Requirement already satisfied: urllib3<1.27,>=1.21.1 in /Users/ytyt0913/opt/anaconda3/envs/tf/lib/python3.7/site-packages (from requests<3.0.0,>=2.13.0->spacy) (1.26.9)\n",
      "Requirement already satisfied: certifi>=2017.4.17 in /Users/ytyt0913/opt/anaconda3/envs/tf/lib/python3.7/site-packages (from requests<3.0.0,>=2.13.0->spacy) (2022.5.18.1)\n",
      "Requirement already satisfied: charset-normalizer~=2.0.0 in /Users/ytyt0913/opt/anaconda3/envs/tf/lib/python3.7/site-packages (from requests<3.0.0,>=2.13.0->spacy) (2.0.12)\n",
      "Requirement already satisfied: click<9.0.0,>=7.1.1 in /Users/ytyt0913/opt/anaconda3/envs/tf/lib/python3.7/site-packages (from typer<0.5.0,>=0.3.0->spacy) (8.1.3)\n",
      "Requirement already satisfied: importlib-metadata in /Users/ytyt0913/opt/anaconda3/envs/tf/lib/python3.7/site-packages (from click<9.0.0,>=7.1.1->typer<0.5.0,>=0.3.0->spacy) (4.11.3)\n",
      "Requirement already satisfied: MarkupSafe>=2.0 in /Users/ytyt0913/opt/anaconda3/envs/tf/lib/python3.7/site-packages (from jinja2->spacy) (2.1.1)\n"
     ]
    }
   ],
   "source": [
    "!pip install spacy"
   ]
  },
  {
   "cell_type": "code",
   "execution_count": 18,
   "metadata": {},
   "outputs": [],
   "source": [
    "import spacy\n",
    "from spacy.matcher import Matcher\n",
    "from spacy.tokens import Span\n",
    "\n",
    "reply = \"sorry\"\n",
    "\n",
    "replypattern = [[{\"LOWER\":\"inefficient\"}], [{\"LOWER\":\"dumb\"}], [{\"LOWER\":\"angry\"}], [{\"LOWER\":\"useless\"}], [{\"LOWER\":\"stupid\"}]]\n",
    "\n",
    "reschedule_Action = \"reschedule\"\n",
    "\n",
    "reschedpattern = [[{\"LOWER\":\"reschedule\"}], [{\"LOWER\":\"home\"}], [{\"LOWER\":\"unavailable\"}], [{\"LOWER\":\"change\"}],[{\"LOWER\":\"swap\"}], [{\"LOWER\":\"available\"}]]\n",
    " \n",
    "trackmsg = \"track\"\n",
    "\n",
    "tracepattern = [[{\"LOWER\":\"locate\"}], [{\"LOWER\":\"where\"}], [{\"LOWER\":\"happen\"}], [{\"LOWER\":\"receive\"}]]\n",
    "\n",
    "\n",
    "nlp = spacy.load(\"en_core_web_sm\")\n",
    "matcher = Matcher(nlp.vocab)\n",
    "matcher.add(reply,replypattern)\n",
    "matcher.add(reschedule_Action, reschedpattern)\n",
    "matcher.add(trackmsg, tracepattern)"
   ]
  },
  {
   "cell_type": "code",
   "execution_count": 20,
   "metadata": {},
   "outputs": [],
   "source": [
    "def convert_text(text):\n",
    "    doc = nlp(text)\n",
    "    tokens = [token.lemma_ for token in doc]\n",
    "    clean_text = ' '.join(tokens)\n",
    "    return clean_text"
   ]
  },
  {
   "cell_type": "code",
   "execution_count": 21,
   "metadata": {},
   "outputs": [],
   "source": [
    "def find_match(argument):\n",
    "    argument = convert_text(argument)\n",
    "    doc = nlp(argument)\n",
    "    matches = matcher(doc)\n",
    "    for match_id, start, end in matches:\n",
    "        string_id = nlp.vocab.strings[match_id]  # Get string representation\n",
    "        span = doc[start:end]  # The matched span\n",
    "        return string_id"
   ]
  },
  {
   "cell_type": "code",
   "execution_count": 22,
   "metadata": {},
   "outputs": [
    {
     "data": {
      "text/plain": [
       "'reschedule'"
      ]
     },
     "execution_count": 22,
     "metadata": {},
     "output_type": "execute_result"
    }
   ],
   "source": [
    "find_match(\"not home\")"
   ]
  }
 ],
 "metadata": {
  "kernelspec": {
   "display_name": "tf",
   "language": "python",
   "name": "python3"
  },
  "language_info": {
   "codemirror_mode": {
    "name": "ipython",
    "version": 3
   },
   "file_extension": ".py",
   "mimetype": "text/x-python",
   "name": "python",
   "nbconvert_exporter": "python",
   "pygments_lexer": "ipython3",
   "version": "3.7.13"
  },
  "orig_nbformat": 4,
  "vscode": {
   "interpreter": {
    "hash": "354e75262a90aeb9ce3c8de7c06a02bf5304bc7850dd40a7815fc62dc9a32c35"
   }
  }
 },
 "nbformat": 4,
 "nbformat_minor": 2
}
