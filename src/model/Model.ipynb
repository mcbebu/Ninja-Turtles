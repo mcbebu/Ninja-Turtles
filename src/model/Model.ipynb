{
 "cells": [
  {
   "cell_type": "code",
   "execution_count": 13,
   "metadata": {},
   "outputs": [],
   "source": [
    "import spacy\n",
    "from spacy.matcher import Matcher\n",
    "from spacy.tokens import Span\n",
    "\n",
    "reply = \"we are extremely sorry for any inconvenience caused.\"\n",
    "\n",
    "replypattern = [[{\"LOWER\":\"inefficient\"}], [{\"LOWER\":\"dumb\"}], [{\"LOWER\":\"angry\"}], [{\"LOWER\":\"useless\"}], [{\"LOWER\":\"stupid\"}]]\n",
    "\n",
    "\n",
    "reschedule_Action = \"Click on the reschedule pop-up\"\n",
    "\n",
    "reschedpattern = [[{\"LOWER\":\"reschedule\"}], [{\"LOWER\":\"home\"}], [{\"LOWER\":\"unavailable\"}], [{\"LOWER\":\"change\"}],[{\"LOWER\":\"swap\"}], [{\"LOWER\":\"available\"}]]\n",
    " \n",
    "trackmsg = \"You may want to click on the track my order pop-up\"\n",
    "\n",
    "tracepattern = [[{\"LOWER\":\"locate\"}], [{\"LOWER\":\"where\"}], [{\"LOWER\":\"happen\"}], [{\"LOWER\":\"receive\"}]]\n",
    "nlp = spacy.load(\"en_core_web_sm\")\n",
    "matcher = Matcher(nlp.vocab)\n",
    "matcher.add(reply,replypattern)\n",
    "matcher.add(reschedule_Action, reschedpattern)\n",
    "matcher.add(trackmsg, tracepattern)\n",
    "\n",
    "def convert_text(text):\n",
    "    doc = nlp(text)\n",
    "    tokens = [token.lemma_ for token in doc]\n",
    "    clean_text = ' '.join(tokens)\n",
    "    return clean_text"
   ]
  },
  {
   "cell_type": "code",
   "execution_count": 17,
   "metadata": {},
   "outputs": [],
   "source": [
    "def find_match(argument):\n",
    "    argument = convert_text(argument)\n",
    "    doc = nlp(argument)\n",
    "    matches = matcher(doc)\n",
    "    for match_id, start, end in matches:\n",
    "        string_id = nlp.vocab.strings[match_id]  # Get string representation\n",
    "        span = doc[start:end]  # The matched span\n",
    "        return string_id\n",
    "    \n",
    "    \n",
    "\n"
   ]
  },
  {
   "cell_type": "code",
   "execution_count": 3,
   "metadata": {},
   "outputs": [
    {
     "name": "stdout",
     "output_type": "stream",
     "text": [
      "Collecting django\n",
      "  Could not fetch URL https://pypi.python.org/simple/django/: There was a problem confirming the ssl certificate: [SSL: TLSV1_ALERT_PROTOCOL_VERSION] tlsv1 alert protocol version (_ssl.c:590) - skipping\n",
      "\u001b[31m  Could not find a version that satisfies the requirement django (from versions: )\u001b[0m\n",
      "\u001b[31mNo matching distribution found for django\u001b[0m\n"
     ]
    }
   ],
   "source": []
  }
 ],
 "metadata": {
  "kernelspec": {
   "display_name": "Python 3",
   "language": "python",
   "name": "python3"
  },
  "language_info": {
   "codemirror_mode": {
    "name": "ipython",
    "version": 3
   },
   "file_extension": ".py",
   "mimetype": "text/x-python",
   "name": "python",
   "nbconvert_exporter": "python",
   "pygments_lexer": "ipython3",
   "version": "3.9.6"
  },
  "orig_nbformat": 4,
  "vscode": {
   "interpreter": {
    "hash": "aee8b7b246df8f9039afb4144a1f6fd8d2ca17a180786b69acc140d282b71a49"
   }
  }
 },
 "nbformat": 4,
 "nbformat_minor": 2
}
